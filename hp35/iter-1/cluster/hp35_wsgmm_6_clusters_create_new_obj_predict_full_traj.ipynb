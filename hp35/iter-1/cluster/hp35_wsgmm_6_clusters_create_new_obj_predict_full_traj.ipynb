{
 "cells": [
  {
   "cell_type": "code",
   "execution_count": 1,
   "id": "5d7cff8d",
   "metadata": {},
   "outputs": [],
   "source": [
    "import numpy as np\n",
    "import MDAnalysis as md\n",
    "import pickle\n",
    "import os\n",
    "from shapeGMM import gmm_shapes"
   ]
  },
  {
   "cell_type": "code",
   "execution_count": 2,
   "id": "b49107b2",
   "metadata": {},
   "outputs": [],
   "source": [
    "# reorder cluster numbers based on populations in descending order\n",
    "def reorder_gmm_cluster_obj(sgmm_obj):\n",
    "    # determine metadata based on clusters\n",
    "    #n_frames = sgmm_obj.n_frames\n",
    "    n_frames = sgmm_obj.n_frames\n",
    "    cluster_ids, cluster_populations = np.unique(sgmm_obj.clusters,return_counts=True)\n",
    "    n_clusters = cluster_ids.size\n",
    "    print(\"Number of clusters:\", n_clusters)\n",
    "    print(\"Populations prior to reorder:\", cluster_populations/n_frames)\n",
    "    # determine sort key\n",
    "    sort_key = np.argsort(cluster_populations)[::-1]\n",
    "    sorted_cluster_ids = cluster_ids[sort_key]\n",
    "    new_clusters = np.empty(n_frames,dtype=int)\n",
    "    for frame in range(n_frames):\n",
    "        new_clusters[frame] = np.argwhere(sorted_cluster_ids == sgmm_obj.clusters[frame])\n",
    "    cluster_ids, cluster_populations = np.unique(new_clusters,return_counts=True)\n",
    "    print(\"Populations after reorder:\", cluster_populations/n_frames)\n",
    "    # repopulate object\n",
    "    sgmm_obj.centers = sgmm_obj.centers[sort_key]\n",
    "    sgmm_obj.precisions = sgmm_obj.precisions[sort_key]\n",
    "    sgmm_obj.weights = sgmm_obj.weights[sort_key]\n",
    "    sgmm_obj.ln_weights = sgmm_obj.ln_weights[sort_key]\n",
    "    sgmm_obj.lpdets = sgmm_obj.lpdets[sort_key]\n",
    "    sgmm_obj.clusters = new_clusters"
   ]
  },
  {
   "cell_type": "markdown",
   "id": "24adcac1",
   "metadata": {},
   "source": [
    "# Read trajectory and save backbone atom selections"
   ]
  },
  {
   "cell_type": "code",
   "execution_count": 19,
   "id": "028b2e71",
   "metadata": {},
   "outputs": [
    {
     "name": "stdout",
     "output_type": "stream",
     "text": [
      "Number of atoms in trajectory: 577\n",
      "Number of frames in trajectory: 1526041\n",
      "Number of atoms being analyzed: 101\n",
      "Number of frames being analyzed: 1526041\n"
     ]
    }
   ],
   "source": [
    "# read trajectory data\n",
    "data_path = '../../../pnas2012-2f4k-360K-protein/'\n",
    "backbone_selection_101 = \"(name C and resid 42) or (name C CA N and not resid 42 76) or (name N and resid 76)\"\n",
    "# LOAD DATA\n",
    "prmtopFileName =  data_path + 'pnas2012-2f4k-360K-protein.pdb'\n",
    "trajFiles = [data_path + files for files in sorted(os.listdir(data_path)) if files.endswith('.dcd')]\n",
    "coord = md.Universe(prmtopFileName,trajFiles)\n",
    "sel_backbone_101 = coord.select_atoms(backbone_selection_101)\n",
    "print(\"Number of atoms in trajectory:\", coord.atoms.n_atoms)\n",
    "print(\"Number of frames in trajectory:\",coord.trajectory.n_frames)\n",
    "print(\"Number of atoms being analyzed:\",sel_backbone_101.n_atoms)\n",
    "print(\"Number of frames being analyzed:\",coord.trajectory.n_frames)\n",
    "traj_backbone_101 = np.empty((coord.trajectory.n_frames,sel_backbone_101.n_atoms,3),dtype=float)\n",
    "count = 0\n",
    "for ts in coord.trajectory:\n",
    "    traj_backbone_101[count,:,:] = sel_backbone_101.positions - sel_backbone_101.center_of_geometry()\n",
    "    count += 1"
   ]
  },
  {
   "cell_type": "markdown",
   "id": "b232f470",
   "metadata": {},
   "source": [
    "# Read clustering from cluster index and position file and create new object"
   ]
  },
  {
   "cell_type": "code",
   "execution_count": 2,
   "id": "16b96a19",
   "metadata": {},
   "outputs": [],
   "source": [
    "file_name = \"6_clusters_opt_weighted_backbone_gmm.clusters\"\n",
    "clusters_wsgmm_6_state = np.loadtxt(file_name).astype(int)"
   ]
  },
  {
   "cell_type": "code",
   "execution_count": 3,
   "id": "352dda6b",
   "metadata": {},
   "outputs": [],
   "source": [
    "file_name = \"6_clusters_opt_weighted_backbone_gmm.positions\"\n",
    "positions_wsgmm_6_state = np.loadtxt(file_name).reshape((61042, 101, 3))"
   ]
  },
  {
   "cell_type": "code",
   "execution_count": 6,
   "id": "4e7adb8a",
   "metadata": {},
   "outputs": [
    {
     "name": "stdout",
     "output_type": "stream",
     "text": [
      "Number of frames being analyzed: 61042\n",
      "Number of particles being analyzed: 101\n",
      "Number of dimensions (must be 3): 3\n",
      "Initializing clustering using method: read\n",
      "Weights from initial clusters in fit_weighted: [0.33801317 0.21296812 0.13341634 0.10913797 0.10414141 0.10232299]\n",
      "0 [0.3382606  0.21281237 0.13326996 0.10902342 0.10399044 0.1026432 ] 23184297.7409202\n",
      "1 [0.33849565 0.212617   0.13317133 0.10897976 0.10387184 0.10286443] 23184461.614208233\n",
      "2 [0.33864931 0.21248184 0.13313629 0.10895637 0.10377688 0.10299931] 23184489.948992006\n",
      "3 [0.33875468 0.21238734 0.13312755 0.1089447  0.10369875 0.10308698] 23184506.372845013\n",
      "4 [0.33882775 0.21231882 0.13312716 0.10894154 0.10363721 0.10314752] 23184512.81002284\n",
      "5 [0.33887938 0.21226919 0.13313068 0.10894277 0.10358816 0.10318981] 23184516.6097561\n",
      "6 [0.33891665 0.21223282 0.13313703 0.10894631 0.10354818 0.10321901] 23184519.485328596\n",
      "7 [0.338944   0.21220585 0.13314686 0.10895122 0.10351327 0.1032388 ] 23184521.5009237\n",
      "8 [0.33896436 0.21218561 0.13315973 0.10895734 0.10348085 0.1032521 ] 23184522.997219887\n",
      "9 [0.33897975 0.21217021 0.13317406 0.10896436 0.10345066 0.10326096] 23184524.22797988\n",
      "10 [0.33899151 0.21215838 0.13318855 0.10897144 0.10342345 0.10326668] 23184525.252257515\n",
      "11 [0.33900062 0.21214919 0.13320259 0.10897791 0.10339931 0.10327038] 23184526.079402212\n",
      "12 [0.33900771 0.21214203 0.13321599 0.10898394 0.10337723 0.1032731 ] 23184526.714669496\n",
      "13 [0.33901329 0.21213642 0.13322887 0.10899033 0.10335571 0.10327537] 23184527.241333257\n",
      "14 [0.33901772 0.21213201 0.13324165 0.1089981  0.10333305 0.10327747] 23184527.759240646\n",
      "15 [0.33902126 0.21212856 0.13325514 0.10900847 0.10330708 0.10327949] 23184528.392865855\n",
      "16 [0.33902415 0.21212591 0.13327061 0.10902197 0.10327585 0.10328151] 23184529.328637484\n",
      "17 [0.33902657 0.21212391 0.13329009 0.1090364  0.10323951 0.10328353] 23184530.700649243\n",
      "18 [0.33902855 0.21212233 0.13331554 0.10905047 0.1031975  0.10328561] 23184532.29768419\n",
      "19 [0.33903012 0.21212095 0.13334859 0.10906517 0.10314738 0.10328779] 23184534.417184357\n",
      "20 [0.33903139 0.21211972 0.13338844 0.1090765  0.10309377 0.10329018] 23184537.26664965\n",
      "21 [0.33903253 0.21211857 0.13342746 0.10908252 0.10304612 0.10329281] 23184540.13527503\n",
      "22 [0.33903363 0.21211756 0.13346001 0.10908547 0.10300784 0.10329549] 23184542.26341682\n",
      "23 [0.33903471 0.21211667 0.13348942 0.10908726 0.10297401 0.10329793] 23184543.72751088\n",
      "24 [0.33903574 0.21211585 0.1335204  0.10908873 0.10293921 0.10330007] 23184545.05518523\n",
      "25 [0.33903671 0.21211507 0.13355474 0.10909036 0.10290104 0.10330207] 23184546.569757\n",
      "26 [0.33903761 0.21211434 0.13359063 0.10909264 0.10286061 0.10330417] 23184548.362366583\n",
      "27 [0.33903844 0.21211368 0.13362378 0.10909634 0.10282129 0.10330647] 23184550.196692217\n",
      "28 [0.33903921 0.21211314 0.13365205 0.10910273 0.10278401 0.10330887] 23184551.886990864\n",
      "29 [0.33903996 0.21211271 0.13367569 0.10911261 0.10274777 0.10331127] 23184553.554780807\n",
      "30 [0.33904066 0.21211241 0.13369597 0.10912284 0.1027145  0.10331363] 23184555.41137007\n",
      "31 [0.33904131 0.21211216 0.13371305 0.10913132 0.10268626 0.1033159 ] 23184556.896509644\n",
      "32 [0.3390419  0.21211189 0.13372727 0.10914067 0.10266021 0.10331805] 23184558.02097711\n",
      "33 [0.33904244 0.21211164 0.13373947 0.10915314 0.10263326 0.10332004] 23184559.13242175\n",
      "34 [0.33904293 0.21211148 0.13375075 0.1091717  0.10260129 0.10332185] 23184560.676089875\n",
      "35 [0.33904335 0.21211147 0.13376287 0.10919454 0.10256423 0.10332354] 23184563.50181564\n",
      "36 [0.33904363 0.21211143 0.13377794 0.10920833 0.10253351 0.10332516] 23184566.713449486\n",
      "37 [0.33904377 0.21211109 0.13379175 0.10921592 0.10251059 0.10332687] 23184568.23364343\n",
      "38 [0.33904389 0.21211073 0.13380203 0.10922335 0.10249136 0.10332864] 23184569.106272563\n",
      "39 [0.33904402 0.21211049 0.13381015 0.10923084 0.10247412 0.10333037] 23184569.878628943\n",
      "40 [0.33904416 0.21211041 0.13381744 0.10923646 0.10245946 0.10333208] 23184570.609782565\n",
      "41 [0.33904431 0.21211065 0.13382512 0.10923903 0.10244702 0.10333387] 23184571.619265784\n",
      "42 [0.33904456 0.21211076 0.13383136 0.10923939 0.10243814 0.10333579] 23184572.097302157\n",
      "43 [0.33904487 0.21211071 0.13383691 0.10923894 0.10243075 0.10333781] 23184572.45080421\n",
      "44 [0.3390452  0.21211058 0.1338423  0.10923821 0.10242382 0.1033399 ] 23184572.741165947\n",
      "45 [0.33904552 0.2121104  0.13384765 0.10923735 0.10241717 0.10334191] 23184572.983183917\n",
      "46 [0.33904581 0.21211019 0.13385283 0.10923644 0.10241105 0.10334368] 23184573.17823036\n",
      "47 [0.33904608 0.21210998 0.13385751 0.10923551 0.10240584 0.10334508] 23184573.31222322\n",
      "48 [0.33904631 0.21210977 0.13386161 0.10923466 0.10240148 0.10334616] 23184573.409124475\n",
      "49 [0.33904651 0.2121096  0.13386512 0.10923395 0.10239782 0.103347  ] 23184573.48087019\n",
      "50 [0.33904668 0.21210945 0.13386808 0.10923338 0.10239473 0.10334769] 23184573.535533383\n",
      "51 [0.33904682 0.21210933 0.13387056 0.10923295 0.10239206 0.10334828] 23184573.57837855\n",
      "52 [0.33904694 0.21210922 0.13387266 0.10923264 0.10238975 0.10334879] 23184573.612931866\n",
      "53 [0.33904704 0.21210916 0.13387474 0.10923244 0.10238736 0.10334925] 23184573.67315249\n",
      "54 [0.33904714 0.21210909 0.13387644 0.10923229 0.10238536 0.10334967] 23184573.697246905\n",
      "55 [0.33904723 0.21210901 0.13387788 0.10923218 0.10238364 0.10335006] 23184573.716855176\n",
      "56 [0.33904731 0.21210894 0.13387914 0.10923209 0.10238211 0.10335041] 23184573.73330716\n",
      "57 [0.33904738 0.21210887 0.13388024 0.10923202 0.10238075 0.10335073] 23184573.7473611\n",
      "58 [0.33904745 0.21210882 0.13388121 0.10923197 0.10237954 0.10335102] 23184573.75952035\n",
      "59 [0.3390475  0.21210876 0.13388207 0.10923193 0.10237845 0.10335129] 23184573.770142067\n",
      "60 [0.33904756 0.21210872 0.13388283 0.1092319  0.10237746 0.10335153] 23184573.779488552\n",
      "61 [0.3390476  0.21210867 0.13388352 0.10923187 0.10237658 0.10335176] 23184573.787760485\n",
      "62 [0.33904765 0.21210863 0.13388413 0.10923185 0.10237577 0.10335196] 23184573.79511299\n",
      "63 [0.33904769 0.2121086  0.13388468 0.10923184 0.10237504 0.10335215] 23184573.801672153\n",
      "64 [0.33904773 0.21210856 0.13388518 0.10923182 0.10237438 0.10335233] 23184573.807539646\n",
      "65 [0.33904777 0.21210853 0.13388563 0.10923182 0.10237377 0.10335249] 23184573.812801242\n",
      "66 [0.3390478  0.2121085  0.13388604 0.10923181 0.10237322 0.10335264] 23184573.81752622\n",
      "67 [0.33904784 0.21210847 0.13388641 0.1092318  0.10237271 0.10335277] 23184573.821776852\n",
      "68 [0.33904787 0.21210844 0.13388674 0.1092318  0.10237224 0.1033529 ] 23184573.82560518\n",
      "69 [0.33904791 0.21210842 0.13388705 0.1092318  0.10237181 0.10335302] 23184573.829057638\n",
      "70 [0.33904794 0.21210839 0.13388733 0.1092318  0.10237141 0.10335312] 23184573.832172178\n",
      "71 [0.33904797 0.21210837 0.13388759 0.1092318  0.10237105 0.10335322] 23184573.834984902\n",
      "72 [0.339048   0.21210834 0.13388783 0.1092318  0.10237071 0.10335332] 23184573.837526053\n",
      "73 [0.33904803 0.21210832 0.13388805 0.1092318  0.10237039 0.10335341] 23184573.83982436\n",
      "74 [0.33904806 0.2121083  0.13388825 0.10923181 0.1023701  0.10335349] 23184573.841902494\n",
      "75 [0.33904809 0.21210828 0.13388844 0.10923181 0.10236983 0.10335356] 23184573.84378317\n",
      "76 [0.33904811 0.21210826 0.13388861 0.10923181 0.10236957 0.10335363] 23184573.845485993\n",
      "77 [0.33904814 0.21210824 0.13388877 0.10923182 0.10236934 0.1033537 ] 23184573.847028535\n",
      "78 [0.33904816 0.21210822 0.13388892 0.10923182 0.10236912 0.10335376] 23184573.848425586\n",
      "79 [0.33904819 0.2121082  0.13388906 0.10923182 0.10236891 0.10335382] 23184573.849692244\n",
      "80 [0.33904821 0.21210818 0.13388919 0.10923183 0.10236872 0.10335387] 23184573.850840375\n",
      "81 [0.33904824 0.21210816 0.1338893  0.10923183 0.10236854 0.10335392] 23184573.851882543\n",
      "82 [0.33904826 0.21210815 0.13388942 0.10923184 0.10236837 0.10335397] 23184573.852827456\n"
     ]
    },
    {
     "data": {
      "text/plain": [
       "array([[[ -3.60868617,  -6.14156554,  12.61132335],\n",
       "        [ -2.89689964,  -5.64993151,  11.56464156],\n",
       "        [ -3.23111294,  -4.2549911 ,  10.90551131],\n",
       "        ...,\n",
       "        [ 17.66899029,  -8.15979362, -24.87537003],\n",
       "        [ 17.47081765,  -7.07032393, -23.81565953],\n",
       "        [ 17.1680789 ,  -7.48902154, -22.55053108]],\n",
       "\n",
       "       [[ 14.42119675,  -1.14661912,  -2.09491545],\n",
       "        [ 14.69508181,  -1.97086531,  -3.07270845],\n",
       "        [ 13.66339606,  -2.83112306,  -3.56343946],\n",
       "        ...,\n",
       "        [ -5.46795351,   4.9373367 ,   4.74879003],\n",
       "        [ -5.40944378,   4.06510261,   5.97689729],\n",
       "        [ -4.15343207,   3.78525979,   6.4835511 ]],\n",
       "\n",
       "       [[  9.48843094, -12.10434667,  -3.77977411],\n",
       "        [  9.56794013, -10.86711923,  -3.3440766 ],\n",
       "        [  9.73347296, -10.51783659,  -1.94760224],\n",
       "        ...,\n",
       "        [ -1.43468972,   9.07022557,   2.61510113],\n",
       "        [ -0.82012129,   9.97115605,   1.51638409],\n",
       "        [ -0.33994241,   9.46340575,   0.35965984]],\n",
       "\n",
       "       ...,\n",
       "\n",
       "       [[ -7.64781458,   6.17710605,  11.36549884],\n",
       "        [ -6.4779904 ,   5.50767488,  11.45235717],\n",
       "        [ -5.13350943,   5.99500549,  11.76631178],\n",
       "        ...,\n",
       "        [  7.91290872,   5.4724243 ,  -2.6597265 ],\n",
       "        [  8.98137754,   4.42622796,  -2.83300869],\n",
       "        [  9.85765827,   4.66162314,  -3.90099135]],\n",
       "\n",
       "       [[ -0.88254094,   2.29237573,  14.69308842],\n",
       "        [ -0.66495749,   2.79643697,  13.48368695],\n",
       "        [ -1.67541667,   3.61797233,  12.79609831],\n",
       "        ...,\n",
       "        [  8.31707115,   4.83332119,  -2.69577323],\n",
       "        [  9.27541947,   3.63929942,  -2.62415211],\n",
       "        [  9.05854205,   2.53570105,  -3.28370865]],\n",
       "\n",
       "       [[ -1.99662253,   0.89688263,  13.44998843],\n",
       "        [ -2.06083712,   1.78858326,  12.48357901],\n",
       "        [ -3.18698512,   2.74756222,  12.19725043],\n",
       "        ...,\n",
       "        [  8.48102702,   4.86232049,  -3.24039298],\n",
       "        [  9.54727332,   3.79511626,  -3.09624854],\n",
       "        [ 10.00285883,   3.27650742,  -4.24563741]]])"
      ]
     },
     "execution_count": 6,
     "metadata": {},
     "output_type": "execute_result"
    }
   ],
   "source": [
    "wsgmm = gmm_shapes.ShapeGMM(n_clusters=6,init_cluster_method=\"read\",verbose=True)\n",
    "wsgmm.fit_weighted(positions_wsgmm_6_state,clusters=clusters_wsgmm_6_state)"
   ]
  },
  {
   "cell_type": "code",
   "execution_count": 15,
   "id": "a2dd3a35",
   "metadata": {},
   "outputs": [
    {
     "name": "stdout",
     "output_type": "stream",
     "text": [
      "Number of clusters: 6\n",
      "Populations prior to reorder: [0.33801317 0.21300088 0.13382589 0.10936732 0.10242128 0.10337145]\n",
      "Populations after reorder: [0.33801317 0.21300088 0.13382589 0.10936732 0.10337145 0.10242128]\n"
     ]
    }
   ],
   "source": [
    "reorder_gmm_cluster_obj(wsgmm)"
   ]
  },
  {
   "cell_type": "markdown",
   "id": "bac4e23f",
   "metadata": {},
   "source": [
    "# Save new object"
   ]
  },
  {
   "cell_type": "code",
   "execution_count": 16,
   "id": "dcac66de",
   "metadata": {},
   "outputs": [],
   "source": [
    "file_name = \"hp35_wsgmm_6_clusters_reorderd.pickle\"\n",
    "pickle_file = open(file_name,\"wb\")\n",
    "pickle.dump(wsgmm,pickle_file)\n",
    "pickle_file.close()"
   ]
  },
  {
   "cell_type": "markdown",
   "id": "d5ebf7f8",
   "metadata": {},
   "source": [
    "# Read object and predict clustering on entire trajectory"
   ]
  },
  {
   "cell_type": "code",
   "execution_count": 3,
   "id": "d2a4944b",
   "metadata": {},
   "outputs": [],
   "source": [
    "file_name = \"hp35_wsgmm_6_clusters_reorderd.pickle\"\n",
    "pickle_file = open(file_name,\"rb\")\n",
    "wsgmm_loaded = pickle.load(pickle_file)\n",
    "pickle_file.close()"
   ]
  },
  {
   "cell_type": "code",
   "execution_count": 21,
   "id": "55f90f55",
   "metadata": {},
   "outputs": [],
   "source": [
    "full_traj_clusters, full_traj_coordinates, full_traj_log_lik = wsgmm_loaded.predict_weighted(traj_backbone_101)"
   ]
  },
  {
   "cell_type": "code",
   "execution_count": 25,
   "id": "d641e4dd",
   "metadata": {},
   "outputs": [
    {
     "name": "stdout",
     "output_type": "stream",
     "text": [
      "Predict log likelihood per frame: 379.20946939236495\n",
      "Train log likelihood per frame  : 379.8134702799295\n"
     ]
    }
   ],
   "source": [
    "print(\"Predict log likelihood per frame:\",full_traj_log_lik/traj_backbone_101.shape[0])\n",
    "print(\"Train log likelihood per frame  :\",wsgmm_loaded.log_likelihood/wsgmm_loaded.n_frames)"
   ]
  },
  {
   "cell_type": "code",
   "execution_count": 22,
   "id": "760733b2",
   "metadata": {},
   "outputs": [
    {
     "name": "stdout",
     "output_type": "stream",
     "text": [
      "[513969 326358 203663 167295 157838 156918]\n"
     ]
    }
   ],
   "source": [
    "print(np.unique(full_traj_clusters,return_counts=True)[1])"
   ]
  },
  {
   "cell_type": "code",
   "execution_count": 23,
   "id": "626ab34b",
   "metadata": {},
   "outputs": [],
   "source": [
    "np.savetxt(\"hp35_wsgmm_6_clusters_reorderd_full_traj.clusters\",full_traj_clusters)"
   ]
  },
  {
   "cell_type": "markdown",
   "id": "cde54987",
   "metadata": {},
   "source": [
    "## Let's get some analysis done quickly"
   ]
  },
  {
   "cell_type": "code",
   "execution_count": 6,
   "id": "5edf2785",
   "metadata": {},
   "outputs": [
    {
     "name": "stdout",
     "output_type": "stream",
     "text": [
      "<shapeGMM.gmm_shapes.ShapeGMM object at 0x147eec05c880>\n"
     ]
    }
   ],
   "source": [
    "print(wsgmm_loaded)"
   ]
  },
  {
   "cell_type": "code",
   "execution_count": null,
   "id": "729e4ad0",
   "metadata": {},
   "outputs": [],
   "source": []
  }
 ],
 "metadata": {
  "kernelspec": {
   "display_name": "Python 3 (ipykernel)",
   "language": "python",
   "name": "python3"
  },
  "language_info": {
   "codemirror_mode": {
    "name": "ipython",
    "version": 3
   },
   "file_extension": ".py",
   "mimetype": "text/x-python",
   "name": "python",
   "nbconvert_exporter": "python",
   "pygments_lexer": "ipython3",
   "version": "3.10.12"
  }
 },
 "nbformat": 4,
 "nbformat_minor": 5
}
